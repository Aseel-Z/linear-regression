{
 "metadata": {
  "language_info": {
   "codemirror_mode": {
    "name": "ipython",
    "version": 3
   },
   "file_extension": ".py",
   "mimetype": "text/x-python",
   "name": "python",
   "nbconvert_exporter": "python",
   "pygments_lexer": "ipython3",
   "version": "3.8.5"
  },
  "orig_nbformat": 2,
  "kernelspec": {
   "name": "python385jvsc74a57bd0c4a019546859109124d9225d58148635911a4e707eefb0054a6b045ca9bea0a2",
   "display_name": "Python 3.8.5 64-bit ('.venv': poetry)"
  },
  "metadata": {
   "interpreter": {
    "hash": "c4a019546859109124d9225d58148635911a4e707eefb0054a6b045ca9bea0a2"
   }
  }
 },
 "nbformat": 4,
 "nbformat_minor": 2,
 "cells": [
  {
   "cell_type": "code",
   "execution_count": null,
   "metadata": {},
   "outputs": [],
   "source": [
    "\n",
    "import numpy as np\n",
    "import pandas as pd\n",
    "import matplotlib.pyplot as plt\n",
    "from sklearn.linear_model import LinearRegression\n",
    "from sklearn.model_selection import train_test_split\n"
   ]
  },
  {
   "source": [
    "prices = pd.read_csv('./kc_house_data.csv')\n",
    "prices.head(5)"
   ],
   "cell_type": "code",
   "metadata": {},
   "execution_count": null,
   "outputs": []
  },
  {
   "source": [
    "Meta Data about data set"
   ],
   "cell_type": "markdown",
   "metadata": {}
  },
  {
   "cell_type": "code",
   "execution_count": null,
   "metadata": {},
   "outputs": [],
   "source": [
    "prices.info()"
   ]
  },
  {
   "source": [
    "Statistics describing the data set "
   ],
   "cell_type": "markdown",
   "metadata": {}
  },
  {
   "cell_type": "code",
   "execution_count": null,
   "metadata": {},
   "outputs": [],
   "source": [
    "prices.describe()"
   ]
  },
  {
   "source": [
    "Spliting data set into two sub-sets (80% for training && 20% for testing)"
   ],
   "cell_type": "markdown",
   "metadata": {}
  },
  {
   "cell_type": "code",
   "execution_count": null,
   "metadata": {},
   "outputs": [],
   "source": [
    "X = prices['sqft_living'].values\n",
    "y = prices['price'].values\n",
    "x_train, x_test, y_train, y_test = train_test_split(X,y,train_size=0.8,test_size=0.2,random_state=100)\n"
   ]
  },
  {
   "source": [
    "Creating a linear regression instance, fitting and plotting training data."
   ],
   "cell_type": "markdown",
   "metadata": {}
  },
  {
   "cell_type": "code",
   "execution_count": null,
   "metadata": {},
   "outputs": [],
   "source": [
    "linear_model = LinearRegression()\n",
    "linear_model.fit(x_train.reshape(-1, 1), y_train.reshape(-1, 1))\n",
    "plt.plot(x_train,y_train)\n",
    "\n"
   ]
  },
  {
   "cell_type": "code",
   "execution_count": null,
   "metadata": {},
   "outputs": [],
   "source": [
    "Getting the score models  - "
   ]
  },
  {
   "cell_type": "code",
   "execution_count": null,
   "metadata": {},
   "outputs": [],
   "source": [
    "model_accuracy_test = linear_model.score(x_test.reshape(-1, 1), y_test.reshape(-1, 1))\n",
    "model_accuracy_train = linear_model.score(x_train.reshape(-1, 1), y_train.reshape(-1, 1))\n",
    "print(f'Model`s coefficient of determination R^2 - training data  is: {round(model_accuracy_test,2)}')\n",
    "print(f'Model`s coefficient of determination R^2 - testing data  is: {round(model_accuracy_test,2)}')\n",
    "y_predict = linear_model.predict(x_test.reshape(-1, 1))\n",
    "plt.plot(x_test,y_predict)"
   ]
  },
  {
   "source": [
    "Conclusions:\n",
    "\n",
    "- The R^2 value is low, which means that the price is not significantly correlated with the area of the living room.\n",
    "- Model Accuracy is quite low, therefore cannot be used for predicting houses prices\n",
    "- Other factors shall be considered, which are more likely to be correlated with the price.\n",
    "\n"
   ],
   "cell_type": "markdown",
   "metadata": {}
  }
 ]
}